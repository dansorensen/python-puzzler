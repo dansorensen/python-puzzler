{
 "cells": [
  {
   "cell_type": "markdown",
   "metadata": {},
   "source": [
    "## Quick Sort Algorithm"
   ]
  },
  {
   "cell_type": "code",
   "execution_count": 1,
   "metadata": {},
   "outputs": [
    {
     "name": "stdout",
     "output_type": "stream",
     "text": [
      "Initial Unsorted Array\n",
      "[46, 23, 1, 0, 86, 20, 14, 16, 24, 100, 64, 89, 6, 75]\n"
     ]
    }
   ],
   "source": [
    "# Setup array for quick sort\n",
    "unsorted_array = [46, 23, 1, 0, 86, 20, 14, 16, 24, 100, 64, 89, 6, 75]\n",
    "print(\"Initial Unsorted Array\")\n",
    "print(unsorted_array)"
   ]
  },
  {
   "cell_type": "code",
   "execution_count": 2,
   "metadata": {},
   "outputs": [],
   "source": [
    "def quickSort(array):\n",
    "\n",
    "    array_length = len(array)\n",
    "\n",
    "    # base case\n",
    "    if array_length < 2:\n",
    "        return array\n",
    "\n",
    "    # Location of the partition\n",
    "    current_position = 0 \n",
    "\n",
    "    # Loop to partition\n",
    "    for i in range(1, array_length):\n",
    "        if array[i] <= array[0]:\n",
    "            current_position += 1\n",
    "            temp = array[i]\n",
    "            array[i] = array[current_position]\n",
    "            array[current_position] = temp\n",
    "\n",
    "    temp = array[0]\n",
    "    array[0] = array[current_position]\n",
    "\n",
    "    # Move pivot\n",
    "    array[current_position] = temp\n",
    "\n",
    "    # Sort left of pivot\n",
    "    left = quickSort(array[0:current_position])\n",
    "\n",
    "    # Sort right of pivot\n",
    "    right = quickSort(array[current_position+1:array_length])\n",
    "\n",
    "    # return left pivot right\n",
    "    array = left + [array[current_position]] + right\n",
    "\n",
    "    return array"
   ]
  },
  {
   "cell_type": "code",
   "execution_count": 3,
   "metadata": {},
   "outputs": [
    {
     "name": "stdout",
     "output_type": "stream",
     "text": [
      "Original:  [46, 23, 1, 0, 86, 20, 14, 16, 24, 100, 64, 89, 6, 75]\n",
      "Sorted: [0, 1, 6, 14, 16, 20, 23, 24, 46, 64, 75, 86, 89, 100]\n"
     ]
    }
   ],
   "source": [
    "# Test quickSort against the unsorted_array\n",
    "\n",
    "print(\"Original: \", unsorted_array)\n",
    "print('Sorted:', quickSort(unsorted_array))"
   ]
  },
  {
   "cell_type": "markdown",
   "metadata": {},
   "source": [
    "## Complexity\n",
    "\n",
    "\n"
   ]
  }
 ],
 "metadata": {
  "interpreter": {
   "hash": "63fd5069d213b44bf678585dea6b12cceca9941eaf7f819626cde1f2670de90d"
  },
  "kernelspec": {
   "display_name": "Python 3.9.5 64-bit",
   "language": "python",
   "name": "python3"
  },
  "language_info": {
   "codemirror_mode": {
    "name": "ipython",
    "version": 3
   },
   "file_extension": ".py",
   "mimetype": "text/x-python",
   "name": "python",
   "nbconvert_exporter": "python",
   "pygments_lexer": "ipython3",
   "version": "3.9.5"
  },
  "orig_nbformat": 4
 },
 "nbformat": 4,
 "nbformat_minor": 2
}
