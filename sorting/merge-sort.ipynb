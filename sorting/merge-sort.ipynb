{
 "cells": [
  {
   "cell_type": "markdown",
   "metadata": {},
   "source": [
    "## Merge Sort Algorithm"
   ]
  },
  {
   "cell_type": "code",
   "execution_count": 13,
   "metadata": {},
   "outputs": [
    {
     "name": "stdout",
     "output_type": "stream",
     "text": [
      "Initial Unsorted Array\n",
      "[46, 23, 1, 0, 86, 20, 14, 16, 24, 100, 64, 89, 6, 75]\n"
     ]
    }
   ],
   "source": [
    "# Setup array for sort\n",
    "unsorted_array = [46, 23, 1, 0, 86, 20, 14, 16, 24, 100, 64, 89, 6, 75]\n",
    "print(\"Initial Unsorted Array\")\n",
    "print(unsorted_array)"
   ]
  },
  {
   "cell_type": "code",
   "execution_count": 7,
   "metadata": {},
   "outputs": [],
   "source": [
    "def mergeSort(array):\n",
    "\n",
    "    # ensure the array can be split\n",
    "    if len(array) > 1:\n",
    "\n",
    "        # split the array into half\n",
    "        mid_point = len(array)//2\n",
    "        left = array[:mid_point]\n",
    "        right = array[mid_point:]\n",
    "\n",
    "        # sort both halves\n",
    "        mergeSort(left)\n",
    "        mergeSort(right)\n",
    "\n",
    "        i = j = k = 0\n",
    "\n",
    "        # copy from array to left / right arrays\n",
    "        while i < len(left) and j < len(right):\n",
    "            \n",
    "            # left is lower, so add it to\n",
    "            # the array and increment i\n",
    "            if left[i] < right[j]:\n",
    "                array[k] = left[i]\n",
    "                i += 1\n",
    "\n",
    "            # right is lower, add it to\n",
    "            # the array and increment j\n",
    "            else:\n",
    "                array[k] = right[j]\n",
    "                j += 1\n",
    "\n",
    "            # increment array position\n",
    "            k += 1\n",
    "\n",
    "        # if any element remains\n",
    "        # just copy them over to the array\n",
    "        # left, then right\n",
    "        while i < len(left):\n",
    "            array[k] = left[i]\n",
    "            i += 1\n",
    "            k += 1\n",
    "\n",
    "        while j < len(right):\n",
    "            array[k] = right[j]\n",
    "            j+= 1\n",
    "            k += 1"
   ]
  },
  {
   "cell_type": "code",
   "execution_count": 14,
   "metadata": {},
   "outputs": [
    {
     "name": "stdout",
     "output_type": "stream",
     "text": [
      "Original:  [46, 23, 1, 0, 86, 20, 14, 16, 24, 100, 64, 89, 6, 75]\n",
      "Sorted: [0, 1, 6, 14, 16, 20, 23, 24, 46, 64, 75, 86, 89, 100]\n"
     ]
    }
   ],
   "source": [
    "# Test mergeSort against the unsorted_array\n",
    "\n",
    "print(\"Original: \", unsorted_array)\n",
    "mergeSort(unsorted_array)\n",
    "print('Sorted:', unsorted_array)"
   ]
  }
 ],
 "metadata": {
  "interpreter": {
   "hash": "63fd5069d213b44bf678585dea6b12cceca9941eaf7f819626cde1f2670de90d"
  },
  "kernelspec": {
   "display_name": "Python 3.9.5 64-bit",
   "language": "python",
   "name": "python3"
  },
  "language_info": {
   "codemirror_mode": {
    "name": "ipython",
    "version": 3
   },
   "file_extension": ".py",
   "mimetype": "text/x-python",
   "name": "python",
   "nbconvert_exporter": "python",
   "pygments_lexer": "ipython3",
   "version": "3.9.5"
  },
  "orig_nbformat": 4
 },
 "nbformat": 4,
 "nbformat_minor": 2
}
